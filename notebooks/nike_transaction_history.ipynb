{
 "cells": [
  {
   "cell_type": "code",
   "execution_count": 1,
   "metadata": {},
   "outputs": [],
   "source": [
    "import pandas as pd"
   ]
  },
  {
   "cell_type": "code",
   "execution_count": 5,
   "metadata": {},
   "outputs": [
    {
     "ename": "TypeError",
     "evalue": "parser_f() got an unexpected keyword argument 'index'",
     "output_type": "error",
     "traceback": [
      "\u001b[0;31m---------------------------------------------------------------------------\u001b[0m",
      "\u001b[0;31mTypeError\u001b[0m                                 Traceback (most recent call last)",
      "\u001b[0;32m<ipython-input-5-062d1a3fc008>\u001b[0m in \u001b[0;36m<module>\u001b[0;34m\u001b[0m\n\u001b[0;32m----> 1\u001b[0;31m \u001b[0mdata\u001b[0m \u001b[0;34m=\u001b[0m \u001b[0mpd\u001b[0m\u001b[0;34m.\u001b[0m\u001b[0mread_csv\u001b[0m\u001b[0;34m(\u001b[0m\u001b[0;34m'./new_structure/data/03_processed/trainer_data.csv'\u001b[0m\u001b[0;34m,\u001b[0m \u001b[0mindex\u001b[0m\u001b[0;34m=\u001b[0m\u001b[0;32mFalse\u001b[0m\u001b[0;34m)\u001b[0m\u001b[0;34m\u001b[0m\u001b[0;34m\u001b[0m\u001b[0m\n\u001b[0m",
      "\u001b[0;31mTypeError\u001b[0m: parser_f() got an unexpected keyword argument 'index'"
     ]
    }
   ],
   "source": [
    "data = pd.read_csv('./new_structure/data/03_processed/trainer_data.csv')"
   ]
  },
  {
   "cell_type": "code",
   "execution_count": 7,
   "metadata": {},
   "outputs": [
    {
     "name": "stdout",
     "output_type": "stream",
     "text": [
      "<class 'pandas.core.frame.DataFrame'>\n",
      "RangeIndex: 2755 entries, 0 to 2754\n",
      "Data columns (total 23 columns):\n",
      " #   Column                  Non-Null Count  Dtype  \n",
      "---  ------                  --------------  -----  \n",
      " 0   Unnamed: 0              2755 non-null   int64  \n",
      " 1   color                   2755 non-null   object \n",
      " 2   model                   2755 non-null   object \n",
      " 3   name                    2755 non-null   object \n",
      " 4   brand                   2755 non-null   object \n",
      " 5   releaseDate             2755 non-null   object \n",
      " 6   sku                     2755 non-null   object \n",
      " 7   retailPrice($)          2755 non-null   float64\n",
      " 8   averageTransaction      2755 non-null   float64\n",
      " 9   totalTransactions       2755 non-null   int64  \n",
      " 10  medianTransaction       2755 non-null   float64\n",
      " 11  averagePremiumPrice(%)  2755 non-null   float64\n",
      " 12  medianProfit            2755 non-null   float64\n",
      " 13  medianPremiumPrice(%)   2755 non-null   float64\n",
      " 14  releaseRank             2755 non-null   float64\n",
      " 15  Collab                  2755 non-null   int64  \n",
      " 16  hasBlack                2755 non-null   int64  \n",
      " 17  hasWhite                2755 non-null   int64  \n",
      " 18  hasRed                  2755 non-null   int64  \n",
      " 19  hasYellow               2755 non-null   int64  \n",
      " 20  hasBlue                 2755 non-null   int64  \n",
      " 21  hasGreen                2755 non-null   int64  \n",
      " 22  hasGrey                 2755 non-null   int64  \n",
      "dtypes: float64(7), int64(10), object(6)\n",
      "memory usage: 495.2+ KB\n"
     ]
    }
   ],
   "source": [
    "data.info()"
   ]
  },
  {
   "cell_type": "code",
   "execution_count": null,
   "metadata": {},
   "outputs": [
    {
     "data": {
      "text/plain": "Jordan    961\nadidas    903\nNike      891\nName: brand, dtype: int64"
     },
     "execution_count": 6,
     "metadata": {},
     "output_type": "execute_result"
    }
   ],
   "source": [
    "data['brand'].value_counts()"
   ]
  },
  {
   "cell_type": "code",
   "execution_count": 8,
   "metadata": {},
   "outputs": [],
   "source": [
    "skus = data['sku']"
   ]
  },
  {
   "cell_type": "code",
   "execution_count": 9,
   "metadata": {},
   "outputs": [],
   "source": [
    "import requests"
   ]
  },
  {
   "cell_type": "code",
   "execution_count": 11,
   "metadata": {},
   "outputs": [],
   "source": [
    "url = f'https://stockx.com/api/products/{skus[0]}/activity?state=480&currency=USD&limit=5&page=1&sort=createdAt&order=DESC&country=US'"
   ]
  },
  {
   "cell_type": "code",
   "execution_count": 14,
   "metadata": {},
   "outputs": [],
   "source": [
    "headers = {\n",
    "            'sec-fetch-mode': 'cors',\n",
    "            'accept-language': 'en-US,en;q=0.9',\n",
    "            'authorization': '',\n",
    "            'x-requested-with': 'XMLHttpRequest',\n",
    "            'appos': 'web',\n",
    "            'user-agent': 'Mozilla/5.0 (Macintosh; Intel Mac OS X 10_14_6) AppleWebKit/537.36 (KHTML, like Gecko) Chrome/77.0.3865.120 Safari/537.36',\n",
    "            'accept': '*/*',\n",
    "            'authority': 'stockx.com',\n",
    "            'sec-fetch-site': 'same-origin',\n",
    "            'appversion': '0.1',\n",
    "    'accept': 'application/json'}"
   ]
  },
  {
   "cell_type": "code",
   "execution_count": 15,
   "metadata": {},
   "outputs": [],
   "source": [
    "r = requests.get(url, headers)"
   ]
  },
  {
   "cell_type": "code",
   "execution_count": 17,
   "metadata": {},
   "outputs": [
    {
     "data": {
      "text/plain": "'<!DOCTYPE html>\\n<html lang=\"en\">\\n<head>\\n    <meta charset=\"utf-8\">\\n    <meta name=\"viewport\" content=\"width=device-width, initial-scale=1\">\\n    <title>Access to this page has been denied.</title>\\n    <link href=\"https://fonts.googleapis.com/css?family=Open+Sans:300\" rel=\"stylesheet\">\\n    <style>\\n        html, body {\\n            margin: 0;\\n            padding: 0;\\n            font-family: \\'Open Sans\\', sans-serif;\\n            color: #000;\\n        }\\n\\n        a {\\n            color: #c5c5c5;\\n            text-decoration: none;\\n        }\\n\\n        .container {\\n            align-items: center;\\n            display: flex;\\n            flex: 1;\\n            justify-content: space-between;\\n            flex-direction: column;\\n            height: 100%;\\n        }\\n\\n        .container > div {\\n            width: 100%;\\n            display: flex;\\n            justify-content: center;\\n        }\\n\\n        .container > div > div {\\n            display: flex;\\n            width: 80%;\\n        }\\n\\n        .customer-logo-wrapper {\\n            padding-top: 2rem;\\n            flex-grow: 0;\\n            background-color: #fff;\\n            visibility: visible;\\n        }\\n\\n        .customer-logo {\\n            border-bottom: 1px solid #000;\\n        }\\n\\n        .customer-logo > img {\\n            padding-bottom: 1rem;\\n            max-height: 50px;\\n            max-width: 100%;\\n        }\\n\\n        .page-title-wrapper {\\n            flex-grow: 2;\\n        }\\n\\n        .page-title {\\n            flex-direction: column-reverse;\\n        }\\n\\n        .content-wrapper {\\n            flex-grow: 5;\\n        }\\n\\n        .content {\\n            flex-direction: column;\\n        }\\n\\n        .page-footer-wrapper {\\n            align-items: center;\\n            flex-grow: 0.2;\\n            background-color: #000;\\n            color: #c5c5c5;\\n            font-size: 70%;\\n        }\\n\\n        @media (min-width: 768px) {\\n            html, body {\\n                height: 100%;\\n            }\\n        }\\n    </style>\\n    <!-- Custom CSS -->\\n    \\n</head>\\n\\n<body>\\n<section class=\"container\">\\n    <div class=\"customer-logo-wrapper\">\\n        <div class=\"customer-logo\">\\n            <img src=\"https://stockx-assets.imgix.net/logo/stockx-homepage-logo.png\" alt=\"Logo\"/>\\n        </div>\\n    </div>\\n    <div class=\"page-title-wrapper\">\\n        <div class=\"page-title\">\\n            <h1>Please verify you are a human</h1>\\n        </div>\\n    </div>\\n    <div class=\"content-wrapper\">\\n        <div class=\"content\">\\n\\n            <div id=\"px-captcha\">\\n            </div>\\n            <p>\\n                Access to this page has been denied because we believe you are using automation tools to browse the\\n                website.\\n            </p>\\n            <p>\\n                This may happen as a result of the following:\\n            </p>\\n            <ul>\\n                <li>\\n                    Javascript is disabled or blocked by an extension (ad blockers for example)\\n                </li>\\n                <li>\\n                    Your browser does not support cookies\\n                </li>\\n            </ul>\\n            <p>\\n                Please make sure that Javascript and cookies are enabled on your browser and that you are not blocking\\n                them from loading.\\n            </p>\\n            <p>\\n                Reference ID: #b51949e0-7f40-11eb-946b-d1a421dfab27\\n            </p>\\n        </div>\\n    </div>\\n    <div class=\"page-footer-wrapper\">\\n        <div class=\"page-footer\">\\n            <p>\\n                Powered by\\n                <a href=\"https://www.perimeterx.com/whywasiblocked\">PerimeterX</a>\\n                , Inc.\\n            </p>\\n        </div>\\n    </div>\\n</section>\\n<!-- Px -->\\n<script>\\n    window._pxAppId = \\'PX16uD0kOF\\';\\n    window._pxJsClientSrc = \\'/16uD0kOF/init.js\\';\\n    window._pxFirstPartyEnabled = true;\\n    window._pxVid = \\'\\';\\n    window._pxUuid = \\'b51949e0-7f40-11eb-946b-d1a421dfab27\\';\\n    window._pxHostUrl = \\'/16uD0kOF/xhr\\';\\n</script>\\n<script>\\n    var s = document.createElement(\\'script\\');\\n    s.src = \\'/16uD0kOF/captcha/captcha.js?a=c&u=b51949e0-7f40-11eb-946b-d1a421dfab27&v=&m=0\\';\\n    var p = document.getElementsByTagName(\\'head\\')[0];\\n    p.insertBefore(s, null);\\n    if (true) {\\n        s.onerror = function () {\\n            s = document.createElement(\\'script\\');\\n            var suffixIndex = \\'/16uD0kOF/captcha/captcha.js?a=c&u=b51949e0-7f40-11eb-946b-d1a421dfab27&v=&m=0\\'.indexOf(\\'captcha.js\\');\\n            var temperedBlockScript = \\'/16uD0kOF/captcha/captcha.js?a=c&u=b51949e0-7f40-11eb-946b-d1a421dfab27&v=&m=0\\'.substring(suffixIndex);\\n            s.src = \\'//captcha.px-cdn.net/PX16uD0kOF/\\' + temperedBlockScript;\\n            p.parentNode.insertBefore(s, p);\\n        };\\n    }\\n</script>\\n<!-- Custom Script -->\\n<script src=\"https://ist-translations.stockx.com/px-translator-v1.js\"></script>\\n</body>\\n</html>\\n'"
     },
     "execution_count": 17,
     "metadata": {},
     "output_type": "execute_result"
    }
   ],
   "source": [
    "r.text"
   ]
  },
  {
   "cell_type": "code",
   "execution_count": null,
   "metadata": {},
   "outputs": [],
   "source": []
  }
 ],
 "metadata": {
  "kernelspec": {
   "display_name": "Python 3.8.3 64-bit ('tg_venv': conda)",
   "metadata": {
    "interpreter": {
     "hash": "5e117b60bb30b0b73b82ce7e2ad77cade7e83db8b035b383e1bb830a936c0ebf"
    }
   },
   "name": "python3"
  },
  "language_info": {
   "codemirror_mode": {
    "name": "ipython",
    "version": 3
   },
   "file_extension": ".py",
   "mimetype": "text/x-python",
   "name": "python",
   "nbconvert_exporter": "python",
   "pygments_lexer": "ipython3",
   "version": "3.8.3"
  },
  "orig_nbformat": 2
 },
 "nbformat": 4,
 "nbformat_minor": 2
}